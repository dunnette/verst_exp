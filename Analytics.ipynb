{
 "cells": [
  {
   "cell_type": "code",
   "execution_count": null,
   "metadata": {
    "collapsed": false
   },
   "outputs": [],
   "source": [
    "import verst_analytics as va\n",
    "import pandas\n",
    "import sklearn.tree\n",
    "import graphviz"
   ]
  },
  {
   "cell_type": "code",
   "execution_count": null,
   "metadata": {
    "collapsed": false
   },
   "outputs": [],
   "source": [
    "query = \"\"\"\n",
    "select partner_api_id, event_name, count(1) cnt from kit.events group by 1, 2\n",
    "\"\"\"\n",
    "\n",
    "activity = va.query_rs(query).set_index('partner_api_id').pivot(columns='event_name', values='cnt')"
   ]
  },
  {
   "cell_type": "code",
   "execution_count": null,
   "metadata": {
    "collapsed": false
   },
   "outputs": [],
   "source": [
    "query = \"\"\"\n",
    "select api_id, liveness from sites\n",
    "\"\"\"\n",
    "\n",
    "status = va.query_pg(query).set_index('api_id')\n",
    "\n",
    "LIVENESS_MAPPING_STATUS = {\n",
    "    0: 'error',\n",
    "    1: 'error',\n",
    "    2: 'expired',\n",
    "    3: 'trial',\n",
    "    4: 'error',\n",
    "    5: 'error',\n",
    "    6: 'error',\n",
    "    7: 'paying'\n",
    "}\n",
    "\n",
    "LIVENESS_MAPPING_STATUS = {\n",
    "    0: 0,\n",
    "    1: 0,\n",
    "    2: 0,\n",
    "    3: 0,\n",
    "    4: 0,\n",
    "    5: 0,\n",
    "    6: 0,\n",
    "    7: 1\n",
    "}\n",
    "\n",
    "status['liveness'] = status['liveness'].apply(lambda x: LIVENESS_MAPPING_STATUS[x])"
   ]
  },
  {
   "cell_type": "code",
   "execution_count": null,
   "metadata": {
    "collapsed": false
   },
   "outputs": [],
   "source": [
    "df = activity.join(status,how='outer').fillna(0)"
   ]
  },
  {
   "cell_type": "code",
   "execution_count": null,
   "metadata": {
    "collapsed": false
   },
   "outputs": [],
   "source": [
    "y = df['liveness'].values\n",
    "X = df.drop(['liveness',\n",
    "             'publisher:plan:checkout:card:button:click',\n",
    "             'publisher:plan:confirmation:-:-:impression',\n",
    "             'publisher:plan:checkout:coupon_code:button:click',\n",
    "             'publisher:plan:checkout:-:-:impression'], axis=1)\n",
    "dt = sklearn.tree.DecisionTreeClassifier(max_depth=3)\n",
    "dt.fit(X, y)"
   ]
  },
  {
   "cell_type": "code",
   "execution_count": null,
   "metadata": {
    "collapsed": false
   },
   "outputs": [],
   "source": [
    "dot_data = sklearn.tree.export_graphviz(dt, \n",
    "                                        out_file='temp.dot', \n",
    "                                        feature_names=X.columns,\n",
    "                                        proportion=True)\n",
    "with open(\"temp.dot\") as f:\n",
    "    dot_graph = f.read()\n",
    "graphviz.Source(dot_graph)"
   ]
  }
 ],
 "metadata": {
  "kernelspec": {
   "display_name": "Python 3",
   "language": "python",
   "name": "python3"
  },
  "language_info": {
   "codemirror_mode": {
    "name": "ipython",
    "version": 3
   },
   "file_extension": ".py",
   "mimetype": "text/x-python",
   "name": "python",
   "nbconvert_exporter": "python",
   "pygments_lexer": "ipython3",
   "version": "3.6.0"
  }
 },
 "nbformat": 4,
 "nbformat_minor": 2
}
